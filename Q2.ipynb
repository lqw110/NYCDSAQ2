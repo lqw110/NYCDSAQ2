{
 "cells": [
  {
   "cell_type": "code",
   "execution_count": 103,
   "metadata": {},
   "outputs": [
    {
     "data": {
      "text/html": [
       "<div>\n",
       "<style scoped>\n",
       "    .dataframe tbody tr th:only-of-type {\n",
       "        vertical-align: middle;\n",
       "    }\n",
       "\n",
       "    .dataframe tbody tr th {\n",
       "        vertical-align: top;\n",
       "    }\n",
       "\n",
       "    .dataframe thead th {\n",
       "        text-align: right;\n",
       "    }\n",
       "</style>\n",
       "<table border=\"1\" class=\"dataframe\">\n",
       "  <thead>\n",
       "    <tr style=\"text-align: right;\">\n",
       "      <th></th>\n",
       "      <th>Customer</th>\n",
       "      <th>Total Purchase</th>\n",
       "    </tr>\n",
       "  </thead>\n",
       "  <tbody>\n",
       "    <tr>\n",
       "      <td>0</td>\n",
       "      <td>Alice</td>\n",
       "      <td>100</td>\n",
       "    </tr>\n",
       "    <tr>\n",
       "      <td>1</td>\n",
       "      <td>Bob</td>\n",
       "      <td>120</td>\n",
       "    </tr>\n",
       "    <tr>\n",
       "      <td>2</td>\n",
       "      <td>Celia</td>\n",
       "      <td>110</td>\n",
       "    </tr>\n",
       "  </tbody>\n",
       "</table>\n",
       "</div>"
      ],
      "text/plain": [
       "  Customer  Total Purchase\n",
       "0    Alice             100\n",
       "1      Bob             120\n",
       "2    Celia             110"
      ]
     },
     "execution_count": 103,
     "metadata": {},
     "output_type": "execute_result"
    }
   ],
   "source": [
    "name=[]\n",
    "number=[]\n",
    "day_i = [\"Bob:100\", \"Alice:100\", \"Celia:110\", \"Bob:20\"]\n",
    "for i in day_i:\n",
    "    a=i.split(\":\")\n",
    "    name.append(a[0])\n",
    "    number.append(a[1])\n",
    "number1=[int(i) for i in number]\n",
    "new=tuple(zip(name,number1))\n",
    "totals = {}\n",
    "for key, value in new:\n",
    "    totals[key] = totals.get(key, 0) + value\n",
    "a=[]\n",
    "b=[]\n",
    "for key in sorted(totals):\n",
    "    a.append(key)\n",
    "    b.append(totals[key])\n",
    "\n",
    "from pandas import DataFrame\n",
    "\n",
    "import pandas as pd\n",
    "\n",
    "data={\"Customer\":a,\"Total Purchase\":b}\n",
    "\n",
    "\n",
    "DataFrame(data, columns=['Customer','Total Purchase'])\n"
   ]
  }
 ],
 "metadata": {
  "kernelspec": {
   "display_name": "Python 3",
   "language": "python",
   "name": "python3"
  },
  "language_info": {
   "codemirror_mode": {
    "name": "ipython",
    "version": 3
   },
   "file_extension": ".py",
   "mimetype": "text/x-python",
   "name": "python",
   "nbconvert_exporter": "python",
   "pygments_lexer": "ipython3",
   "version": "3.7.4"
  }
 },
 "nbformat": 4,
 "nbformat_minor": 2
}
