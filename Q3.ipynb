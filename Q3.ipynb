{
 "cells": [
  {
   "cell_type": "code",
   "execution_count": 6,
   "metadata": {},
   "outputs": [
    {
     "name": "stdout",
     "output_type": "stream",
     "text": [
      "What is the upper limit?50\n",
      "What is the lower limit?0\n",
      "Is the number 25? Please type Y/NN\n",
      "Is the number smaller than 25? Please type Y/NY\n",
      "Is the number 12? Please type Y/NN\n",
      "Is the number smaller than 12? Please type Y/NN\n",
      "Is the number 18? Please type Y/NN\n",
      "Is the number smaller than 18? Please type Y/NY\n",
      "Is the number 15? Please type Y/NN\n",
      "Is the number smaller than 15? Please type Y/NY\n",
      "Is the number 13? Please type Y/NY\n",
      "Ha, I know what you're thinking. Your number is 13\n"
     ]
    }
   ],
   "source": [
    "up=int(input(\"What is the upper limit?\"))\n",
    "low=int(input(\"What is the lower limit?\"))\n",
    "import math\n",
    "\n",
    "\n",
    "\n",
    "a= True\n",
    "while a:\n",
    "    mid=math.floor((up+low)/2) \n",
    "    if input(\"Is the number \"+str(mid)+\"? Please type Y/N\")==\"N\":\n",
    "        if input(\"Is the number smaller than \"+str(mid)+\"? Please type Y/N\")==\"N\":\n",
    "            low=mid\n",
    "        else:\n",
    "            up=mid\n",
    "    \n",
    "    else:\n",
    "       \n",
    "        print(\"Ha, I know what you're thinking. Your number is \"+str(mid))\n",
    "        a=False\n",
    "    \n",
    "        \n",
    "    "
   ]
  }
 ],
 "metadata": {
  "kernelspec": {
   "display_name": "Python 3",
   "language": "python",
   "name": "python3"
  },
  "language_info": {
   "codemirror_mode": {
    "name": "ipython",
    "version": 3
   },
   "file_extension": ".py",
   "mimetype": "text/x-python",
   "name": "python",
   "nbconvert_exporter": "python",
   "pygments_lexer": "ipython3",
   "version": "3.7.4"
  }
 },
 "nbformat": 4,
 "nbformat_minor": 2
}
